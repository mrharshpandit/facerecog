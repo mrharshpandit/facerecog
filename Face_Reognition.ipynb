{
 "cells": [
  {
   "cell_type": "markdown",
   "metadata": {},
   "source": []
  },
  {
   "cell_type": "code",
   "execution_count": 1,
   "metadata": {},
   "outputs": [
    {
     "name": "stdin",
     "output_type": "stream",
     "text": [
      "enter name: sumit\n"
     ]
    }
   ],
   "source": [
    "import cv2\n",
    "import os\n",
    "import shutil\n",
    "vdo=cv2.VideoCapture(0)\n",
    "img_no=1\n",
    "name=os.getcwd()+\"/images/\"+input(\"enter name:\") #saving the images in the current working directory\n",
    "if(os.path.exists(name)):\n",
    "    shutil.rmtree(name)\n",
    "    os.mkdir(name)\n",
    "else:\n",
    "    os.mkdir(name)\n",
    "clf=cv2.CascadeClassifier('haarcascade_frontalface_default.xml')\n",
    "while(True):\n",
    "    flag,img=vdo.read()\n",
    "    gray=cv2.cvtColor(img,cv2.COLOR_BGR2GRAY)\n",
    "    faces=clf.detectMultiScale(gray,1.2,5)\n",
    "    for x,y,w,h in faces:\n",
    "        f=img[y:y+h,x:x+w]\n",
    "        cv2.rectangle(img,(x,y),(x+w,y+h),(255,0,0),2)\n",
    "        cv2.imwrite(f\"{name}/{img_no}.png\",f)\n",
    "    img_no=img_no+1\n",
    "    cv2.putText(img,f'Image captured:{img_no}',(10,22),cv2.FONT_HERSHEY_PLAIN,2,(0,255,255),2)\n",
    "    cv2.namedWindow(\"Reading Face\")\n",
    "    cv2.moveWindow(\"Reading Face\",200,60)\n",
    "    cv2.imshow(\"Reading Face\",img)\n",
    "    k=cv2.waitKey(50)\n",
    "    if(k==ord('q') or img_no==100):\n",
    "        break\n",
    "vdo.release()\n",
    "cv2.destroyAllWindows()"
   ]
  },
  {
   "cell_type": "markdown",
   "metadata": {},
   "source": [
    "# Train model"
   ]
  },
  {
   "cell_type": "code",
   "execution_count": 2,
   "metadata": {},
   "outputs": [
    {
     "data": {
      "text/plain": [
       "LogisticRegression()"
      ]
     },
     "execution_count": 2,
     "metadata": {},
     "output_type": "execute_result"
    }
   ],
   "source": [
    "import os\n",
    "import cv2\n",
    "import numpy as np\n",
    "from sklearn.decomposition import PCA\n",
    "clf=cv2.CascadeClassifier('haarcascade_frontalface_default.xml')\n",
    "classes=os.listdir('images')\n",
    "Y=[]\n",
    "X=[]\n",
    "for cls in classes:\n",
    "    for img in os.listdir(\"images/\"+cls):\n",
    "        imgpath=f'images/{cls}/{img}'\n",
    "        imge=cv2.imread(imgpath)\n",
    "        gray=cv2.cvtColor(imge,cv2.COLOR_BGR2GRAY)\n",
    "        faces=clf.detectMultiScale(gray,minSize=(40, 40))\n",
    "        for x,y,w,h in faces:\n",
    "            gray=gray[y:y+h,x:x+w]\n",
    "            gray=gray[:40,:40]\n",
    "            gray=gray.flatten()\n",
    "            X.append(gray)    \n",
    "            Y.append(cls)\n",
    "X=np.array(X,dtype=object)\n",
    "pca=PCA(.99)\n",
    "model=LogisticRegression()\n",
    "model.fit(pca.fit_transform(X),Y)"
   ]
  },
  {
   "cell_type": "markdown",
   "metadata": {},
   "source": [
    "# Read Face and Predict"
   ]
  },
  {
   "cell_type": "code",
   "execution_count": null,
   "metadata": {},
   "outputs": [],
   "source": [
    "import cv2\n",
    "vdo=cv2.VideoCapture(0)\n",
    "clf=cv2.CascadeClassifier(\"haarcascade_frontalface_default.xml\")\n",
    "while(True):\n",
    "    flag,img=vdo.read()\n",
    "    gray_img=cv2.cvtColor(img,cv2.COLOR_BGR2GRAY)\n",
    "    faces=clf.detectMultiScale(gray_img,1.3,4,minSize=(40,40))\n",
    "    xi=[];yi=[];wi=[];hi=[];X_test=[];\n",
    "    for x,y,w,h in faces:\n",
    "        gray=gray_img[y:y+h,x:x+w]\n",
    "        gray=gray[:40,:40]\n",
    "        gray=gray.flatten()\n",
    "        X_test.append(gray)\n",
    "        xi.append(x);yi.append(y);wi.append(w);hi.append(h)\n",
    "    if(len(X_test)>0):\n",
    "        pred=model.predict(pca.transform(np.array(X_test)))\n",
    "        for i in range(len(pred)):\n",
    "            cv2.rectangle(img,(xi[i],yi[i]),(xi[i]+wi[i],yi[i]+hi[i]),(255,0,0),2)\n",
    "            cv2.putText(img,pred[i],(xi[i],yi[i]),cv2.FONT_HERSHEY_COMPLEX_SMALL,2,(0,255,0),2)\n",
    "            cv2.namedWindow(\"Prediction\")\n",
    "            cv2.moveWindow(\"Prediction\",200,60)\n",
    "            cv2.imshow(\"Prediction\",img)\n",
    "        k=cv2.waitKey(50)\n",
    "        if(k==ord('q')):\n",
    "            break\n",
    "vdo.release()\n",
    "cv2.destroyAllWindows()"
   ]
  },
  {
   "cell_type": "code",
   "execution_count": null,
   "metadata": {},
   "outputs": [],
   "source": []
  }
 ],
 "metadata": {
  "kernelspec": {
   "display_name": "Python 3 (ipykernel)",
   "language": "python",
   "name": "python3"
  },
  "language_info": {
   "codemirror_mode": {
    "name": "ipython",
    "version": 3
   },
   "file_extension": ".py",
   "mimetype": "text/x-python",
   "name": "python",
   "nbconvert_exporter": "python",
   "pygments_lexer": "ipython3",
   "version": "3.9.7"
  }
 },
 "nbformat": 4,
 "nbformat_minor": 4
}
